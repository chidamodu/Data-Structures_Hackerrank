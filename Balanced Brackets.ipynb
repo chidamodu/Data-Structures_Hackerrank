{
 "cells": [
  {
   "cell_type": "code",
   "execution_count": null,
   "metadata": {},
   "outputs": [],
   "source": [
    "2.35 pm\n",
    "\n",
    "def isbalanced():\n",
    "    d={'(':')', '[':']','{':'}'}\n",
    "    \n",
    "    t = int(input())\n",
    "\n",
    "    for t_itr in range(t):\n",
    "        s = input()\n",
    "        for i in s:\n",
    "            \n",
    "        \n"
   ]
  },
  {
   "cell_type": "code",
   "execution_count": 9,
   "metadata": {},
   "outputs": [
    {
     "data": {
      "text/plain": [
       "deque(['{', '[', '(', ')', ']', '}'])"
      ]
     },
     "execution_count": 9,
     "metadata": {},
     "output_type": "execute_result"
    }
   ],
   "source": [
    "from collections import deque\n",
    "deque(s)\n"
   ]
  },
  {
   "cell_type": "code",
   "execution_count": 14,
   "metadata": {},
   "outputs": [
    {
     "name": "stdout",
     "output_type": "stream",
     "text": [
      ")\n",
      "]\n",
      "}\n"
     ]
    }
   ],
   "source": [
    "s='{[()]}'\n",
    "opening = tuple('({[')\n",
    "closing = tuple(')}]')\n",
    "mapping = dict(zip(opening, closing))\n",
    "for i in range(len(s)):\n",
    "    if s[i] not in mapping and s[i-1] in mapping:\n",
    "        if \n",
    "        print(s[i])\n",
    "    \n",
    "        "
   ]
  },
  {
   "cell_type": "code",
   "execution_count": 12,
   "metadata": {},
   "outputs": [
    {
     "data": {
      "text/plain": [
       "6"
      ]
     },
     "execution_count": 12,
     "metadata": {},
     "output_type": "execute_result"
    }
   ],
   "source": [
    "len(s)"
   ]
  },
  {
   "cell_type": "code",
   "execution_count": 11,
   "metadata": {},
   "outputs": [
    {
     "data": {
      "text/plain": [
       "{'(': ')', '{': '}', '[': ']'}"
      ]
     },
     "execution_count": 11,
     "metadata": {},
     "output_type": "execute_result"
    }
   ],
   "source": [
    "mapping"
   ]
  },
  {
   "cell_type": "code",
   "execution_count": 19,
   "metadata": {},
   "outputs": [],
   "source": [
    "#This solution here also works but did not work on hackerrank for this problem\n",
    "BRACKETS_MAP = {\"[\": \"]\", \"{\": \"}\", \"(\": \")\"}\n",
    "\n",
    "def isValid(s):\n",
    "    stack = []\n",
    "    for bracket in s:\n",
    "        if bracket in BRACKETS_MAP:\n",
    "            stack.append(BRACKETS_MAP[bracket])\n",
    "        elif not stack or bracket != stack.pop():\n",
    "            return False\n",
    "    return not stack"
   ]
  },
  {
   "cell_type": "code",
   "execution_count": 20,
   "metadata": {},
   "outputs": [
    {
     "name": "stdout",
     "output_type": "stream",
     "text": [
      "['}']\n",
      "['}', ']']\n",
      "['}', ']', ')']\n"
     ]
    },
    {
     "data": {
      "text/plain": [
       "False"
      ]
     },
     "execution_count": 20,
     "metadata": {},
     "output_type": "execute_result"
    }
   ],
   "source": [
    "isValid('{[(])}')"
   ]
  },
  {
   "cell_type": "code",
   "execution_count": 23,
   "metadata": {},
   "outputs": [
    {
     "data": {
      "text/plain": [
       "True"
      ]
     },
     "execution_count": 23,
     "metadata": {},
     "output_type": "execute_result"
    }
   ],
   "source": [
    "isValid('')"
   ]
  },
  {
   "cell_type": "code",
   "execution_count": null,
   "metadata": {},
   "outputs": [],
   "source": [
    "Hackerrank Submission\n",
    "import math\n",
    "import os\n",
    "import random\n",
    "import re\n",
    "import sys\n",
    "\n",
    "# Complete the isBalanced function below.\n",
    "def isBalanced(s):\n",
    "    stack = []\n",
    "    bracketDict = {\n",
    "        \"}\" : \"{\",\n",
    "        \"]\" : \"[\",\n",
    "        \")\" : \"(\"\n",
    "    }\n",
    "    for b in s:\n",
    "        if b in bracketDict and stack and bracketDict[b] == stack[-1]:\n",
    "            stack.pop()\n",
    "        else:\n",
    "            stack.append(b)\n",
    "\n",
    "    if stack:\n",
    "        return(\"NO\")\n",
    "    else:\n",
    "        return(\"YES\")\n",
    "\n",
    "\n",
    "\n",
    "if __name__ == '__main__':\n",
    "    fptr = open(os.environ['OUTPUT_PATH'], 'w')\n",
    "\n",
    "    t = int(input())\n",
    "\n",
    "    for t_itr in range(t):\n",
    "        s = input()\n",
    "\n",
    "        result = isBalanced(s)\n",
    "\n",
    "        fptr.write(result + '\\n')\n",
    "\n",
    "    fptr.close()\n"
   ]
  },
  {
   "cell_type": "code",
   "execution_count": 40,
   "metadata": {},
   "outputs": [],
   "source": [
    "def isBalanced(s):\n",
    "    stack = []\n",
    "    bracketDict = {\n",
    "        \"}\" : \"{\",\n",
    "        \"]\" : \"[\",\n",
    "        \")\" : \"(\"\n",
    "    }\n",
    "    for b in s:\n",
    "        if b in bracketDict and stack and bracketDict[b] == stack[-1]:\n",
    "            stack.pop()\n",
    "        else:\n",
    "            stack.append(b)\n",
    "           \n",
    "\n",
    "    if stack:\n",
    "        print(stack)\n",
    "        print(len(stack))\n",
    "        return(\"NO\")\n",
    "    else:\n",
    "        return(\"YES\")\n",
    "\n"
   ]
  },
  {
   "cell_type": "code",
   "execution_count": 41,
   "metadata": {},
   "outputs": [
    {
     "name": "stdout",
     "output_type": "stream",
     "text": [
      "['\"', ' ', '\"']\n",
      "3\n"
     ]
    },
    {
     "data": {
      "text/plain": [
       "'NO'"
      ]
     },
     "execution_count": 41,
     "metadata": {},
     "output_type": "execute_result"
    }
   ],
   "source": [
    "isBalanced('()\" \"')"
   ]
  },
  {
   "cell_type": "code",
   "execution_count": null,
   "metadata": {},
   "outputs": [],
   "source": [
    "Unit Tests:\n",
    "'}[]()'\n",
    "'(()'\n",
    "'()\" \"'"
   ]
  }
 ],
 "metadata": {
  "kernelspec": {
   "display_name": "Python 3",
   "language": "python",
   "name": "python3"
  },
  "language_info": {
   "codemirror_mode": {
    "name": "ipython",
    "version": 3
   },
   "file_extension": ".py",
   "mimetype": "text/x-python",
   "name": "python",
   "nbconvert_exporter": "python",
   "pygments_lexer": "ipython3",
   "version": "3.7.4"
  }
 },
 "nbformat": 4,
 "nbformat_minor": 2
}
