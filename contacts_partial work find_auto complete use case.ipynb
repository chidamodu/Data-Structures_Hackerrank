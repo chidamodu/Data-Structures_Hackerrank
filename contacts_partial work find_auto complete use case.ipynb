{
 "cells": [
  {
   "cell_type": "code",
   "execution_count": null,
   "metadata": {},
   "outputs": [],
   "source": [
    "4.17 4.28"
   ]
  },
  {
   "cell_type": "code",
   "execution_count": 5,
   "metadata": {},
   "outputs": [
    {
     "name": "stdout",
     "output_type": "stream",
     "text": [
      "2\n"
     ]
    }
   ],
   "source": [
    "s=[\"hack\",\"hackerrank\"]\n",
    "c=0\n",
    "\n",
    "for i in s:\n",
    "    if \"hac\" in i:\n",
    "        c+=1\n",
    "print(c)\n",
    "    "
   ]
  },
  {
   "cell_type": "code",
   "execution_count": 16,
   "metadata": {},
   "outputs": [
    {
     "name": "stdout",
     "output_type": "stream",
     "text": [
      "4\n",
      "add hack\n",
      "add hackerrank\n",
      "find hac\n",
      "2\n",
      "find hak\n",
      "0\n"
     ]
    }
   ],
   "source": [
    "m = {}\n",
    "\n",
    "loop = int(input())\n",
    "\n",
    "def add_word(word):\n",
    "    for i in range(1, len(word)+1):\n",
    "        if word[:i] in m:\n",
    "            m[word[:i]] += 1\n",
    "        else:\n",
    "            m[word[:i]] = 1\n",
    "            \n",
    "def find_partial(word):\n",
    "    return m.get(word) or 0\n",
    "\n",
    "\n",
    "\n",
    "for i in range(loop):\n",
    "    inp = input().split()\n",
    "    \n",
    "    if inp[0] == \"add\":\n",
    "        add_word(inp[1])\n",
    "    else:\n",
    "        print(find_partial(inp[1]))"
   ]
  },
  {
   "cell_type": "code",
   "execution_count": 22,
   "metadata": {},
   "outputs": [],
   "source": [
    "g={}\n",
    "def add_word1(word):\n",
    "    for i in range(1, len(word)+1):\n",
    "        if word[:i] in g:\n",
    "            g[word[:i]] += 1\n",
    "        else:\n",
    "            g[word[:i]] = 1\n",
    "    print(g)"
   ]
  },
  {
   "cell_type": "code",
   "execution_count": 23,
   "metadata": {},
   "outputs": [
    {
     "name": "stdout",
     "output_type": "stream",
     "text": [
      "{'h': 1, 'ha': 1, 'hac': 1, 'hack': 1, 'hacke': 1, 'hacker': 1, 'hackerr': 1, 'hackerra': 1, 'hackerran': 1, 'hackerrank': 1}\n"
     ]
    }
   ],
   "source": [
    "add_word1('hackerrank')"
   ]
  },
  {
   "cell_type": "code",
   "execution_count": 24,
   "metadata": {},
   "outputs": [
    {
     "name": "stdout",
     "output_type": "stream",
     "text": [
      "{'h': 2, 'ha': 2, 'hac': 2, 'hack': 2, 'hacke': 1, 'hacker': 1, 'hackerr': 1, 'hackerra': 1, 'hackerran': 1, 'hackerrank': 1}\n"
     ]
    }
   ],
   "source": [
    "add_word1('hack')"
   ]
  },
  {
   "cell_type": "code",
   "execution_count": 25,
   "metadata": {},
   "outputs": [
    {
     "name": "stdout",
     "output_type": "stream",
     "text": [
      "2\n",
      "add hack\n",
      "find hac\n"
     ]
    }
   ],
   "source": [
    "queries = []\n",
    "\n",
    "loop = int(input())\n",
    "\n",
    "for _ in range(loop):\n",
    "    queries.append(input().rstrip().split())\n",
    "\n"
   ]
  },
  {
   "cell_type": "code",
   "execution_count": 26,
   "metadata": {},
   "outputs": [
    {
     "data": {
      "text/plain": [
       "[['add', 'hack'], ['find', 'hac']]"
      ]
     },
     "execution_count": 26,
     "metadata": {},
     "output_type": "execute_result"
    }
   ],
   "source": [
    "queries"
   ]
  },
  {
   "cell_type": "code",
   "execution_count": 46,
   "metadata": {},
   "outputs": [
    {
     "name": "stdout",
     "output_type": "stream",
     "text": [
      "2\n",
      "add foggyfig\n",
      "find fog\n"
     ]
    }
   ],
   "source": [
    "\n",
    "def contacts(queries):\n",
    "    m = {}\n",
    "    ans=[]\n",
    "    for item in queries:\n",
    "        if item[0] == \"add\":\n",
    "            for i in range(1, len(item[1])+1):\n",
    "                if item[1][:i] in m:\n",
    "                    m[item[1][:i]] += 1\n",
    "                else:\n",
    "                    m[item[1][:i]] = 1\n",
    "        \n",
    "        elif item[0] == 'find':\n",
    "            ans.append(m.get(item[1]) or 0)\n",
    "    return ans\n",
    "            \n",
    "if __name__ == '__main__':\n",
    "\n",
    "    queries_rows = int(input())\n",
    "\n",
    "    queries = []\n",
    "\n",
    "    for _ in range(queries_rows):\n",
    "        queries.append(input().rstrip().split())\n",
    "\n",
    "    result = contacts(queries)"
   ]
  },
  {
   "cell_type": "code",
   "execution_count": 47,
   "metadata": {},
   "outputs": [
    {
     "data": {
      "text/plain": [
       "[1]"
      ]
     },
     "execution_count": 47,
     "metadata": {},
     "output_type": "execute_result"
    }
   ],
   "source": [
    "result"
   ]
  },
  {
   "cell_type": "code",
   "execution_count": null,
   "metadata": {},
   "outputs": [],
   "source": [
    "My Submission Hackerrank\n",
    "import os\n",
    "import sys\n",
    "\n",
    "#\n",
    "# Complete the contacts function below.\n",
    "#\n",
    "def contacts(queries):\n",
    "    m = {}\n",
    "    ans=[]\n",
    "    for item in queries:\n",
    "        if item[0] == \"add\":\n",
    "            for i in range(1, len(item[1])+1):\n",
    "                if item[1][:i] in m:\n",
    "                    m[item[1][:i]] += 1\n",
    "                else:\n",
    "                    m[item[1][:i]] = 1\n",
    "        \n",
    "        elif item[0] == 'find':\n",
    "            ans.append(m.get(item[1]) or 0)\n",
    "    return ans\n",
    "if __name__ == '__main__':\n",
    "    fptr = open(os.environ['OUTPUT_PATH'], 'w')\n",
    "\n",
    "    queries_rows = int(input())\n",
    "\n",
    "    queries = []\n",
    "\n",
    "    for _ in range(queries_rows):\n",
    "        queries.append(input().rstrip().split())\n",
    "\n",
    "    result = contacts(queries)\n",
    "\n",
    "    fptr.write('\\n'.join(map(str, result)))\n",
    "    fptr.write('\\n')\n",
    "\n",
    "    fptr.close()\n"
   ]
  }
 ],
 "metadata": {
  "kernelspec": {
   "display_name": "Python 3",
   "language": "python",
   "name": "python3"
  },
  "language_info": {
   "codemirror_mode": {
    "name": "ipython",
    "version": 3
   },
   "file_extension": ".py",
   "mimetype": "text/x-python",
   "name": "python",
   "nbconvert_exporter": "python",
   "pygments_lexer": "ipython3",
   "version": "3.7.4"
  }
 },
 "nbformat": 4,
 "nbformat_minor": 2
}
